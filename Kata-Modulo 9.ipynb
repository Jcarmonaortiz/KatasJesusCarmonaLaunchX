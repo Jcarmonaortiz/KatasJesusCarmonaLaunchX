{
 "cells": [
  {
   "cell_type": "markdown",
   "metadata": {},
   "source": [
    "Ejercicio 1"
   ]
  },
  {
   "cell_type": "code",
   "execution_count": 10,
   "metadata": {},
   "outputs": [],
   "source": [
    "def generate_report(Tanque_principal, Tanque_externo, Tanque_hidrogeno):\n",
    "    porcentaje_total = (Tanque_principal + Tanque_externo + Tanque_hidrogeno) / 3\n",
    "    return f\"\"\" Reporte:\n",
    "    Porcentaje total: {porcentaje_total}%\n",
    "    Tanque Principal: {Tanque_principal}%\n",
    "    Tanque externo {Tanque_externo}%\n",
    "    Tanque de Hidrogeno: {Tanque_hidrogeno}% \n",
    "     \"\"\""
   ]
  },
  {
   "cell_type": "code",
   "execution_count": 11,
   "metadata": {},
   "outputs": [
    {
     "name": "stdout",
     "output_type": "stream",
     "text": [
      " Reporte:\n",
      "    Porcentaje total: 78.33333333333333%\n",
      "    Tanque Principal: 80%\n",
      "    Tanque externo 70%\n",
      "    Tanque de Hidrogeno: 85% \n",
      "     \n"
     ]
    }
   ],
   "source": [
    "print(generate_report(80, 70, 85))\n"
   ]
  },
  {
   "cell_type": "code",
   "execution_count": 12,
   "metadata": {},
   "outputs": [],
   "source": [
    "def average(valores):\n",
    "    total = sum(valores)\n",
    "    numero_de_elementos = len(valores)\n",
    "    return total / numero_de_elementos"
   ]
  },
  {
   "cell_type": "code",
   "execution_count": 13,
   "metadata": {},
   "outputs": [
    {
     "data": {
      "text/plain": [
       "82.0"
      ]
     },
     "execution_count": 13,
     "metadata": {},
     "output_type": "execute_result"
    }
   ],
   "source": [
    "average([80, 85, 81]) "
   ]
  },
  {
   "cell_type": "code",
   "execution_count": 14,
   "metadata": {},
   "outputs": [],
   "source": [
    "def generate_report(Tanque_principal, Tanque_externo, Tanque_hidrogeno):\n",
    "    porcentaje_total = (Tanque_principal + Tanque_externo + Tanque_hidrogeno) \n",
    "    return f\"\"\" Reporte:Tanque_principal, Tanque_externo, Tanque_hidrogeno\n",
    "    Porcentaje Total: {average([Tanque_principal, Tanque_externo, Tanque_hidrogeno])}%\n",
    "    Tanque Principal: {Tanque_principal}%\n",
    "    Tanque externo {Tanque_externo}%\n",
    "    Tanque de Hidrogeno: {Tanque_hidrogeno}% \n",
    "     \"\"\""
   ]
  },
  {
   "cell_type": "code",
   "execution_count": 15,
   "metadata": {},
   "outputs": [
    {
     "name": "stdout",
     "output_type": "stream",
     "text": [
      " Reporte:Tanque_principal, Tanque_externo, Tanque_hidrogeno\n",
      "    Porcentaje Total: 51.666666666666664%\n",
      "    Tanque Principal: 50%\n",
      "    Tanque externo 60%\n",
      "    Tanque de Hidrogeno: 45% \n",
      "     \n"
     ]
    }
   ],
   "source": [
    "print(generate_report(50, 60, 45))"
   ]
  },
  {
   "cell_type": "markdown",
   "metadata": {},
   "source": [
    "Ejercicio 2"
   ]
  },
  {
   "cell_type": "code",
   "execution_count": 16,
   "metadata": {},
   "outputs": [
    {
     "name": "stdout",
     "output_type": "stream",
     "text": [
      "\n",
      "    Mision a Luna\n",
      "    Tiempo total del viaje: 65 minutos\n",
      "    Combustible Total sobrante: 500000 galones\n",
      "    \n"
     ]
    }
   ],
   "source": [
    "\n",
    "def mission_report(tiempo_prelanzamiento, tiempo_vuelo, destino, Tanque_externo, Tanque_principal):\n",
    "    return f\"\"\"\n",
    "    Mision a {destino}\n",
    "    Tiempo total del viaje: {tiempo_prelanzamiento + tiempo_vuelo} minutos\n",
    "    Combustible Total sobrante: {Tanque_externo + Tanque_principal} galones\n",
    "    \"\"\"\n",
    "\n",
    "print(mission_report(14, 51, \"Luna\", 200000, 300000))"
   ]
  },
  {
   "cell_type": "code",
   "execution_count": 17,
   "metadata": {},
   "outputs": [
    {
     "name": "stdout",
     "output_type": "stream",
     "text": [
      "\n",
      "    Mision a Luna\n",
      "    Tiempo total de viaje: 76 minutos\n",
      "    Combustible total sobrante: 500000\n",
      "    \n"
     ]
    }
   ],
   "source": [
    "def mission_report(destino, *minutos, **reserva_combustible):\n",
    "    return f\"\"\"\n",
    "    Mision a {destino}\n",
    "    Tiempo total de viaje: {sum(minutos)} minutos\n",
    "    Combustible total sobrante: {sum(reserva_combustible.values())}\n",
    "    \"\"\"\n",
    "\n",
    "print(mission_report(\"Luna\", 10, 15, 51, principal=300000, externo=200000))"
   ]
  },
  {
   "cell_type": "code",
   "execution_count": 18,
   "metadata": {},
   "outputs": [
    {
     "name": "stdout",
     "output_type": "stream",
     "text": [
      "\n",
      "    Mision a Luna\n",
      "    Tiempo total de viaje: 74 minutos\n",
      "    Combustible total sobrante: 500000\n",
      "    principal tanque --> 300000 galones sobrantes\n",
      "externo tanque --> 200000 galones sobrantes\n",
      "\n"
     ]
    }
   ],
   "source": [
    "def mission_report(destino, *minutos, **reserva_combustible):\n",
    "    reporte_principal = f\"\"\"\n",
    "    Mision a {destino}\n",
    "    Tiempo total de viaje: {sum(minutos)} minutos\n",
    "    Combustible total sobrante: {sum(reserva_combustible.values())}\n",
    "    \"\"\"\n",
    "  \n",
    "    for nombre_tanque, galones in reserva_combustible.items():\n",
    "        reporte_principal += f\"{nombre_tanque} tanque --> {galones} galones sobrantes\\n\"\n",
    "    return reporte_principal\n",
    "\n",
    "print(mission_report(\"Luna\", 8, 11, 55, principal=300000, externo=200000))"
   ]
  }
 ],
 "metadata": {
  "interpreter": {
   "hash": "e3749c009125a817460c64dcc503e649ec019a16a444f0bf5c3a6509cbad6f4d"
  },
  "kernelspec": {
   "display_name": "Python 3.10.2 64-bit",
   "language": "python",
   "name": "python3"
  },
  "language_info": {
   "codemirror_mode": {
    "name": "ipython",
    "version": 3
   },
   "file_extension": ".py",
   "mimetype": "text/x-python",
   "name": "python",
   "nbconvert_exporter": "python",
   "pygments_lexer": "ipython3",
   "version": "3.10.2"
  },
  "orig_nbformat": 4
 },
 "nbformat": 4,
 "nbformat_minor": 2
}
